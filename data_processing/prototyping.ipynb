{
 "cells": [
  {
   "cell_type": "code",
   "execution_count": null,
   "id": "ef41f866",
   "metadata": {},
   "outputs": [],
   "source": [
    "try:\n",
    "    spark.stop()\n",
    "    del spark\n",
    "except NameError:\n",
    "    %run configuration.py\n",
    "    from functions import DataFrame, F\n",
    "    from pyspark.sql.window import Window\n",
    "    import pyspark.sql.types as T"
   ]
  }
 ],
 "metadata": {
  "language_info": {
   "name": "python"
  }
 },
 "nbformat": 4,
 "nbformat_minor": 5
}
