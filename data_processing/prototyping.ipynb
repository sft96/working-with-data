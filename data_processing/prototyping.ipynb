{
  "metadata": {
    "kernelspec": {
      "name": "python",
      "display_name": "Python (Pyodide)",
      "language": "python"
    },
    "language_info": {
      "codemirror_mode": {
        "name": "python",
        "version": 3
      },
      "file_extension": ".py",
      "mimetype": "text/x-python",
      "name": "python",
      "nbconvert_exporter": "python",
      "pygments_lexer": "ipython3",
      "version": "3.8"
    }
  },
  "nbformat_minor": 5,
  "nbformat": 4,
  "cells": [
    {
      "id": "aeae691f-fd2a-4d6b-87a3-7b9d21c4898a",
      "cell_type": "code",
      "source": "try:\n    spark.stop()\n    del spark\nexcept NameError:\n    %run configuration.py\n    from functions import DataFrame, F\n    from pyspark.sql.window import Window\n    import pyspark.sql.types as T",
      "metadata": {
        "trusted": true
      },
      "outputs": [],
      "execution_count": null
    }
  ]
}