{
  "cells": [
    {
      "cell_type": "code",
      "execution_count": null,
      "id": "2813e66c-6669-4510-aa9a-8274d4de6944",
      "metadata": {
        "trusted": true
      },
      "outputs": [],
      "source": [
        "try:\n",
        "    spark.stop()\n",
        "    del spark\n",
        "except NameError:\n",
        "    %run configuration.py\n",
        "    from functions import (\n",
        "        DataFrame, F, pd,\n",
        "        Data as dat,\n",
        "        Subscriptions as sub,\n",
        "        Parquet as par\n",
        "    )\n",
        "    from pyspark.sql.window import Window\n",
        "    import pyspark.sql.types as T"
      ]
    }
  ],
  "metadata": {
    "kernelspec": {
      "display_name": "Python (Pyodide)",
      "language": "python",
      "name": "python"
    },
    "language_info": {
      "codemirror_mode": {
        "name": "python",
        "version": 3
      },
      "file_extension": ".py",
      "mimetype": "text/x-python",
      "name": "python",
      "nbconvert_exporter": "python",
      "pygments_lexer": "ipython3",
      "version": "3.8"
    }
  },
  "nbformat": 4,
  "nbformat_minor": 5
}
